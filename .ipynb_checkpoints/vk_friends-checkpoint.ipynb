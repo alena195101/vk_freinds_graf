{
 "cells": [
  {
   "cell_type": "code",
   "execution_count": 1,
   "metadata": {},
   "outputs": [],
   "source": [
    "from vk_api import *\n",
    "import networkx\n",
    "from networkx import *\n",
    "DEEP = 1\n",
    "FRIENDS_LIMIT = 30"
   ]
  },
  {
   "cell_type": "code",
   "execution_count": 2,
   "metadata": {},
   "outputs": [],
   "source": [
    "#Авторизация в ВК\n",
    "login, password = '79870984464', 'makerammknotgreatagain1812'\n",
    "vk_session = vk_api.VkApi(login, password)\n",
    "try:\n",
    "    vk_session.auth(token_only=True)\n",
    "except vk_api.AuthError as error_msg:\n",
    "    print(error_msg)\n",
    "vk = vk_session.get_api()"
   ]
  },
  {
   "cell_type": "code",
   "execution_count": 6,
   "metadata": {},
   "outputs": [
    {
     "name": "stdout",
     "output_type": "stream",
     "text": [
      "<vk_api.vk_api.VkApiMethod object at 0xa1dcd9550>\n"
     ]
    }
   ],
   "source": []
  },
  {
   "cell_type": "code",
   "execution_count": 7,
   "metadata": {},
   "outputs": [],
   "source": [
    "#Считывание первичных пользователей\n",
    "file = open('id_group.txt')\n",
    "data_id = file.read().split('\\n')\n",
    "data_id = list(map(int,data_id))\n",
    "file.close()"
   ]
  },
  {
   "cell_type": "code",
   "execution_count": null,
   "metadata": {},
   "outputs": [],
   "source": [
    "#init графа, создание лога ошибок\n",
    "G = nx.Graph()\n",
    "ER_LOG = open('ERROR_LOG.txt','w')\n",
    "#пользователи представлены в виде словаря: ключ - пользователь. значения - его друзья\n",
    "users = {}\n",
    "#первый цикл добавит друзей в 1-ом приближении, тут нет ограничения на кол-во друзей\n",
    "for user in data_id:\n",
    "    G.add_node(user)\n",
    "    try:\n",
    "        users[user] = vk.friends.get(user_id=user)['items']\n",
    "        for friend in users[user]:\n",
    "                G.add_node(friend)\n",
    "                G.add_edge(user,friend)\n",
    "    except vk_api.ApiError as error_msg:\n",
    "        ER_LOG.write('user_id:' + str(user) + str(error_msg) + '\\n')\n",
    "k = 1\n",
    "#Второй цикл будет добавлять друзей друзей и т.д. до нужной глубины\n",
    "#Использую while т.к. потом добавлю функцию, которая будет проверять, может уже построились все необходимые связи\n",
    "#и дальше искать друзей не нужно\n",
    "while k <= DEEP:\n",
    "    '''Пользователи, которые уже добавлены кому-то в друзья, но для них самих список друзей ещё не получен\n",
    "    ищутся как разность между множеством ключей и множеством значений. Это сразу помогает избавится и от повторений\n",
    "    и от зацикливания и от повторной обработки людей, которые уже добавлены'''\n",
    "    new_users = set([item for sublist in users.values() for item in sublist]).difference(users.keys())\n",
    "    for user in new_users:\n",
    "        G.add_node(user)\n",
    "        try:\n",
    "            users[user] = vk.friends.get(user_id=user,count=FRIENDS_LIMIT)['items']\n",
    "            for friend in users[user]:\n",
    "                G.add_node(friend)\n",
    "                G.add_edge(user,friend)\n",
    "        except vk_api.ApiError as error_msg:\n",
    "            ER_LOG.write('user_id:' + str(user) + str(error_msg) + '\\n')\n",
    "    k += 1\n",
    "ER_LOG.close()"
   ]
  },
  {
   "cell_type": "code",
   "execution_count": 76,
   "metadata": {},
   "outputs": [
    {
     "data": {
      "text/plain": [
       "1171"
      ]
     },
     "execution_count": 76,
     "metadata": {},
     "output_type": "execute_result"
    }
   ],
   "source": [
    "#nx.shortest_path(G, 0, 3)\n",
    "len(users.values())\n",
    "'''Дальше будет обработка графа с помощью функции кратчайшего пути, все лишние элементы будут выкинуты'''"
   ]
  },
  {
   "cell_type": "code",
   "execution_count": null,
   "metadata": {},
   "outputs": [],
   "source": []
  }
 ],
 "metadata": {
  "kernelspec": {
   "display_name": "Python 3",
   "language": "python",
   "name": "python3"
  },
  "language_info": {
   "codemirror_mode": {
    "name": "ipython",
    "version": 3
   },
   "file_extension": ".py",
   "mimetype": "text/x-python",
   "name": "python",
   "nbconvert_exporter": "python",
   "pygments_lexer": "ipython3",
   "version": "3.7.3"
  }
 },
 "nbformat": 4,
 "nbformat_minor": 2
}
